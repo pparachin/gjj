{
  "nbformat": 4,
  "nbformat_minor": 0,
  "metadata": {
    "colab": {
      "provenance": [],
      "authorship_tag": "ABX9TyNH7xAtR9+xJ6BAs/IGI793",
      "include_colab_link": true
    },
    "kernelspec": {
      "name": "python3",
      "display_name": "Python 3"
    },
    "language_info": {
      "name": "python"
    }
  },
  "cells": [
    {
      "cell_type": "markdown",
      "metadata": {
        "id": "view-in-github",
        "colab_type": "text"
      },
      "source": [
        "<a href=\"https://colab.research.google.com/github/pparachin/gjj/blob/main/lekce3_chatgpt.ipynb\" target=\"_parent\"><img src=\"https://colab.research.google.com/assets/colab-badge.svg\" alt=\"Open In Colab\"/></a>"
      ]
    },
    {
      "cell_type": "markdown",
      "source": [
        "# Programování pro střední školy"
      ],
      "metadata": {
        "id": "8PfHNhVudEyt"
      }
    },
    {
      "cell_type": "markdown",
      "source": [
        "## Lekce 3: Práce s podmínkami a logickými operátory v Pythonu\n",
        "\n",
        "Vítejte ve třetí lekci programování v Pythonu! Dnes se podíváme na to, jak v Pythonu pracovat s podmínkami a logickými operátory."
      ],
      "metadata": {
        "id": "mG-fe-8zdJeU"
      }
    },
    {
      "cell_type": "markdown",
      "source": [
        "### 1. Úvod\n",
        "V běžném životě často čelíme rozhodování: \"Pokud prší, vezmu si deštník.\" V programování někdy potřebujeme, aby náš kód rozhodl, co dělat v závislosti na určitých podmínkách. K tomu slouží příkazy if, elif a else."
      ],
      "metadata": {
        "id": "Xp0KDObhdUc8"
      }
    },
    {
      "cell_type": "markdown",
      "source": [
        "### 2. Podmínky `if, elif, else`\n",
        "a) Základní `if`"
      ],
      "metadata": {
        "id": "rCkWMq_sdcyg"
      }
    },
    {
      "cell_type": "code",
      "execution_count": null,
      "metadata": {
        "id": "kKdMLB0JbVxZ"
      },
      "outputs": [],
      "source": [
        "vstup = int(input(\"Zadej číslo: \"))\n",
        "if vstup > 10:\n",
        "    print(\"Tvoje číslo je větší než 10!\")\n"
      ]
    },
    {
      "cell_type": "markdown",
      "source": [
        "b) Přidání alternativy pomocí `else`"
      ],
      "metadata": {
        "id": "DeoEFpyndho4"
      }
    },
    {
      "cell_type": "code",
      "source": [
        "vstup = int(input(\"Zadej číslo: \"))\n",
        "if vstup > 10:\n",
        "    print(\"Tvoje číslo je větší než 10!\")\n",
        "else:\n",
        "    print(\"Tvoje číslo je 10 nebo menší.\")"
      ],
      "metadata": {
        "id": "O39xLEz8dogu"
      },
      "execution_count": null,
      "outputs": []
    },
    {
      "cell_type": "markdown",
      "source": [
        "c) Více podmínek pomocí `elif`"
      ],
      "metadata": {
        "id": "RImy8t1rdqfY"
      }
    },
    {
      "cell_type": "code",
      "source": [
        "vstup = int(input(\"Zadej číslo: \"))\n",
        "if vstup > 10:\n",
        "    print(\"Tvoje číslo je větší než 10!\")\n",
        "elif vstup == 10:\n",
        "    print(\"Tvoje číslo je přesně 10!\")\n",
        "else:\n",
        "    print(\"Tvoje číslo je menší než 10.\")\n"
      ],
      "metadata": {
        "id": "iBL8cNVsdt_X"
      },
      "execution_count": null,
      "outputs": []
    },
    {
      "cell_type": "markdown",
      "source": [
        "### 2.1 Procvičení\n"
      ],
      "metadata": {
        "id": "tECxIVcIdwM9"
      }
    },
    {
      "cell_type": "markdown",
      "source": [
        "#### Cvičení 1:\n",
        "Napište program, který požádá uživatele o teplotu. Pokud je teplota nižší než 0, vypište \"Je ledově!\", pokud je mezi 0 a 15, vypište \"Je chladno.\", a pokud je vyšší než 15, vypište \"Je teplo.\""
      ],
      "metadata": {
        "id": "fx0_V6hjjZP3"
      }
    },
    {
      "cell_type": "code",
      "source": [],
      "metadata": {
        "id": "ajhRhdV0jebf"
      },
      "execution_count": null,
      "outputs": []
    },
    {
      "cell_type": "markdown",
      "source": [
        "#### Cvičení 2:\n",
        "Vytvořte program, který se vás zeptá, zda máte hlad. Pokud odpovíte \"ano\", program vypíše \"Jděte na oběd!\", jinak vypíše \"Pokračujte v práci.\""
      ],
      "metadata": {
        "id": "ey-YW4X3jfl4"
      }
    },
    {
      "cell_type": "code",
      "source": [],
      "metadata": {
        "id": "hJHUyzfUjjof"
      },
      "execution_count": null,
      "outputs": []
    },
    {
      "cell_type": "markdown",
      "source": [
        "### 3. Logické operátory: `and`, `or`, `not`\n",
        "Někdy potřebujeme kombinovat více podmínek dohromady."
      ],
      "metadata": {
        "id": "mFzfssyvjoVf"
      }
    },
    {
      "cell_type": "markdown",
      "source": [
        "a) `and` - Oba výrazy musí být pravdivé"
      ],
      "metadata": {
        "id": "xwzRognJkDeJ"
      }
    },
    {
      "cell_type": "code",
      "source": [
        "cislo = int(input(\"Zadej číslo mezi 10 a 20: \"))\n",
        "if cislo > 10 and cislo < 20:\n",
        "    print(\"Tvoje číslo je mezi 10 a 20!\")\n",
        "else:\n",
        "    print(\"Tvoje číslo není mezi 10 a 20.\")\n"
      ],
      "metadata": {
        "id": "dtJSearKkIPc"
      },
      "execution_count": null,
      "outputs": []
    },
    {
      "cell_type": "markdown",
      "source": [
        "b) `or` - Alespoň jeden výraz musí být pravdivý"
      ],
      "metadata": {
        "id": "mfcfCIjskJLk"
      }
    },
    {
      "cell_type": "code",
      "source": [
        "cislo = int(input(\"Zadej číslo menší než 10 nebo větší než 20: \"))\n",
        "if cislo < 10 or cislo > 20:\n",
        "    print(\"Splnil jsi podmínku!\")\n",
        "else:\n",
        "    print(\"Nesplnil jsi podmínku.\")\n"
      ],
      "metadata": {
        "id": "-EtYZB3AkR8O"
      },
      "execution_count": null,
      "outputs": []
    },
    {
      "cell_type": "markdown",
      "source": [
        "c) `not`- Negace výrazu"
      ],
      "metadata": {
        "id": "KySjVkyBkUen"
      }
    },
    {
      "cell_type": "code",
      "source": [
        "barva = input(\"Zadej svou oblíbenou barvu: \")\n",
        "if not barva == \"modrá\":\n",
        "    print(\"Tvoje oblíbená barva není modrá.\")\n",
        "else:\n",
        "    print(\"Tvoje oblíbená barva je modrá!\")\n"
      ],
      "metadata": {
        "id": "QX7fpuTGkTON"
      },
      "execution_count": null,
      "outputs": []
    },
    {
      "cell_type": "markdown",
      "source": [
        "### 3.1 Procvičení\n",
        "Operátor modulo (%) se v Pythonu používá k získání zbytku po dělení dvou čísel. Je velmi užitečný, zejména pokud chceme zjistit, zda je číslo sudé nebo liché."
      ],
      "metadata": {
        "id": "BFm0e4xTkb6k"
      }
    },
    {
      "cell_type": "code",
      "source": [
        "print(5 % 2)  # výsledek: 1\n",
        "print(4 % 2)  # výsledek: 0"
      ],
      "metadata": {
        "colab": {
          "base_uri": "https://localhost:8080/"
        },
        "id": "kik7paO-WFYy",
        "outputId": "7d2820cd-a1ae-4744-eda1-72137faf8d8b"
      },
      "execution_count": null,
      "outputs": [
        {
          "output_type": "stream",
          "name": "stdout",
          "text": [
            "1\n",
            "0\n"
          ]
        }
      ]
    },
    {
      "cell_type": "markdown",
      "source": [
        "#### Cvičení 3:\n",
        "Napište program, který vás požádá o dvě čísla. Pokud je jedno z nich sudé a druhé liché, vypište \"Máte jedno sudé a jedno liché číslo.\""
      ],
      "metadata": {
        "id": "Ds1nIERykfXB"
      }
    },
    {
      "cell_type": "code",
      "source": [],
      "metadata": {
        "id": "gf_ELPb5kj5M"
      },
      "execution_count": null,
      "outputs": []
    },
    {
      "cell_type": "markdown",
      "source": [
        "#### Cvičení 4:\n",
        "Vytvořte program, který se vás zeptá, jestli máte rádi čokoládu nebo zmrzlinu. Pokud odpovíte \"ano\" na obě otázky, program vypíše \"Máte skvělou chuť!\". Pokud odpovíte \"ano\" alespoň na jednu otázku, vypíše \"Máte dobrou chuť!\". Pokud odpovíte \"ne\" na obě otázky, program vypíše \"Máte specifickou chuť.\""
      ],
      "metadata": {
        "id": "pY5Am3Qqkl1l"
      }
    },
    {
      "cell_type": "code",
      "source": [],
      "metadata": {
        "id": "o52RdnkyknBF"
      },
      "execution_count": null,
      "outputs": []
    },
    {
      "cell_type": "markdown",
      "source": [
        "### 4. Relační operátory\n",
        "Relační operátory se v Pythonu používají k porovnání dvou hodnot. Výsledkem je vždy buď True (pravda) nebo False (nepravda)."
      ],
      "metadata": {
        "id": "a2e-GN3Um2Lg"
      }
    },
    {
      "cell_type": "markdown",
      "source": [
        "a) `==` - Rovná se"
      ],
      "metadata": {
        "id": "53yp9ZoAW2Ls"
      }
    },
    {
      "cell_type": "code",
      "source": [
        "print(5 == 5)  # výsledek: True\n",
        "print(5 == 4)  # výsledek: False"
      ],
      "metadata": {
        "id": "v1E1ojj4W9Wj"
      },
      "execution_count": null,
      "outputs": []
    },
    {
      "cell_type": "markdown",
      "source": [
        "b) `!=` - Nerovná se"
      ],
      "metadata": {
        "id": "6tHJu3FlW-Vi"
      }
    },
    {
      "cell_type": "code",
      "source": [
        "print(5 != 4)  # výsledek: True\n",
        "print(5 != 5)  # výsledek: False"
      ],
      "metadata": {
        "id": "0sxsTOn3XDca"
      },
      "execution_count": null,
      "outputs": []
    },
    {
      "cell_type": "markdown",
      "source": [
        "c) `>` - Větší než"
      ],
      "metadata": {
        "id": "z_Zb7vxxXH6H"
      }
    },
    {
      "cell_type": "code",
      "source": [
        "print(5 > 4)  # výsledek: True\n",
        "print(4 > 5)  # výsledek: False"
      ],
      "metadata": {
        "id": "4wjb_0ZEXJ6m"
      },
      "execution_count": null,
      "outputs": []
    },
    {
      "cell_type": "markdown",
      "source": [
        "d) `<` - Menší než"
      ],
      "metadata": {
        "id": "Fmd-OEx0XLik"
      }
    },
    {
      "cell_type": "code",
      "source": [
        "print(4 < 5)  # výsledek: True\n",
        "print(5 < 4)  # výsledek: False"
      ],
      "metadata": {
        "id": "NDRVtB9UXOi-"
      },
      "execution_count": null,
      "outputs": []
    },
    {
      "cell_type": "markdown",
      "source": [
        "e) `>=` - Větší než nebo rovno"
      ],
      "metadata": {
        "id": "TYeoMSs3XSBS"
      }
    },
    {
      "cell_type": "code",
      "source": [
        "print(5 >= 5)  # výsledek: True\n",
        "print(5 >= 6)  # výsledek: False"
      ],
      "metadata": {
        "id": "R6qwt6e0XUTf"
      },
      "execution_count": null,
      "outputs": []
    },
    {
      "cell_type": "markdown",
      "source": [
        "f) `<=` - Menší než nebo rovno"
      ],
      "metadata": {
        "id": "B8KAeWJEXXTn"
      }
    },
    {
      "cell_type": "code",
      "source": [
        "print(4 <= 5)  # výsledek: True\n",
        "print(5 <= 4)  # výsledek: False"
      ],
      "metadata": {
        "id": "dt1jdMTGXZGH"
      },
      "execution_count": null,
      "outputs": []
    },
    {
      "cell_type": "markdown",
      "source": [
        "### 5. Úkoly na závěr"
      ],
      "metadata": {
        "id": "gLMobUuoksR9"
      }
    },
    {
      "cell_type": "markdown",
      "source": [
        "#### 5.1 - oblibená barva\n",
        "Napište program, který vás požádá o vaši oblíbenou barvu. Pokud je to \"modrá\" nebo \"červená\", vypište \"To je jedna z mých oblíbených barev!\" Jinak vypište \"Tato barva není v mém TOP seznamu.\n"
      ],
      "metadata": {
        "id": "LxJqeYMXkw33"
      }
    },
    {
      "cell_type": "code",
      "source": [],
      "metadata": {
        "id": "74X70Xook3zj"
      },
      "execution_count": null,
      "outputs": []
    },
    {
      "cell_type": "markdown",
      "source": [
        "#### 5.2 - vetší menší\n",
        "Vytvořte program, který vás požádá o dvě čísla. Pokud je jedno z nich větší než 10 a zároveň druhé číslo menší než 20, vypište \"Splnil jsi obě podmínky!\"."
      ],
      "metadata": {
        "id": "4v3Y5ch_k-Xq"
      }
    },
    {
      "cell_type": "code",
      "source": [],
      "metadata": {
        "id": "W1U1A3hDlCX-"
      },
      "execution_count": null,
      "outputs": []
    },
    {
      "cell_type": "markdown",
      "source": [
        "#### 5.3 - porovnání věku\n",
        "Vytvořte program, který vás požádá o vaše věk. Pokud je věk mezi 15 a 20 včetně, vypište \"Jsi teenager!\". Pokud je věk menší než 15, vypište \"Jsi ještě dítě.\". Pokud je věk více než 20, vypište \"Jsi dospělý!\"."
      ],
      "metadata": {
        "id": "5fxes-YTlDLC"
      }
    },
    {
      "cell_type": "code",
      "source": [],
      "metadata": {
        "id": "FIea2fiRlJgv"
      },
      "execution_count": null,
      "outputs": []
    },
    {
      "cell_type": "markdown",
      "source": [
        "### 6. Domací úkoly"
      ],
      "metadata": {
        "id": "QG7CFxNZlWVz"
      }
    },
    {
      "cell_type": "markdown",
      "source": [
        "#### 6.1\n",
        "Napište program, který vás požádá o tři čísla. Program by měl vypsat, zda jsou všechna čísla sudá, všechna lichá, nebo zda je mezi nimi mix sudých a lichých čísel."
      ],
      "metadata": {
        "id": "Sr6RLyqVlctU"
      }
    },
    {
      "cell_type": "code",
      "source": [],
      "metadata": {
        "id": "fNTdDOnAkc3A"
      },
      "execution_count": null,
      "outputs": []
    },
    {
      "cell_type": "markdown",
      "source": [
        "#### 6.2\n",
        "Vytvořte program, který vás požádá o rok narození a následně vypočítá, zda jste narodili v přestupném roce či ne. (Tip: Rok je přestupný, pokud je dělitelný 4. Pokud je ovšem dělitelný 100 a zároveň není dělitelný 400, přestupný není.)"
      ],
      "metadata": {
        "id": "zXZifV-ulf90"
      }
    },
    {
      "cell_type": "code",
      "source": [],
      "metadata": {
        "id": "LglsEqgpkddI"
      },
      "execution_count": null,
      "outputs": []
    },
    {
      "cell_type": "markdown",
      "source": [
        "#### 6.3\n",
        "Navrhněte program, který simuluje jednoduchý výběr z jídelního lístku v restauraci. Uživatel by měl mít možnost vybrat si předkrm, hlavní chod a dezert. Program by měl následně vypsat celkovou cenu objednávky na základě uživatelova výběru."
      ],
      "metadata": {
        "id": "rqe_-Oiolh09"
      }
    },
    {
      "cell_type": "code",
      "source": [],
      "metadata": {
        "id": "kwdImydskd6Q"
      },
      "execution_count": null,
      "outputs": []
    },
    {
      "cell_type": "markdown",
      "source": [
        "#### 6.4\n",
        "Vytvořte program, který vás požádá o dvě slova. Program by měl následně vypsat, zda obě slova začínají na stejné písmeno, končí na stejné písmeno, nebo zda žádné z těchto podmínek není splněno."
      ],
      "metadata": {
        "id": "SKbloq9ylian"
      }
    },
    {
      "cell_type": "code",
      "source": [],
      "metadata": {
        "id": "H96sUjbSkeWm"
      },
      "execution_count": null,
      "outputs": []
    }
  ]
}