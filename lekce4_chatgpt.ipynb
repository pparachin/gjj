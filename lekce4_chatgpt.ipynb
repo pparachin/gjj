{
  "nbformat": 4,
  "nbformat_minor": 0,
  "metadata": {
    "colab": {
      "provenance": [],
      "authorship_tag": "ABX9TyPUhBloPqVFhvddZuGjXkjH",
      "include_colab_link": true
    },
    "kernelspec": {
      "name": "python3",
      "display_name": "Python 3"
    },
    "language_info": {
      "name": "python"
    }
  },
  "cells": [
    {
      "cell_type": "markdown",
      "metadata": {
        "id": "view-in-github",
        "colab_type": "text"
      },
      "source": [
        "<a href=\"https://colab.research.google.com/github/pparachin/gjj/blob/main/lekce4_chatgpt.ipynb\" target=\"_parent\"><img src=\"https://colab.research.google.com/assets/colab-badge.svg\" alt=\"Open In Colab\"/></a>"
      ]
    },
    {
      "cell_type": "markdown",
      "source": [
        "# Programování pro střední školy"
      ],
      "metadata": {
        "id": "kTgyOW4wqW_5"
      }
    },
    {
      "cell_type": "markdown",
      "source": [
        "## Lekce 4: Cykly\n",
        "V dnešní lekci se podíváme na způsob, jak v Pythonu opakovat určité části kódu. Tyto opakované části kódu nazýváme cykly. Python poskytuje dva základní typy cyklů: `while` a `for`."
      ],
      "metadata": {
        "id": "7YQWl7MxqaSd"
      }
    },
    {
      "cell_type": "markdown",
      "source": [
        "### 1. Cyklus `while`\n",
        "Cyklus while se opakuje, dokud je jeho podmínka pravdivá."
      ],
      "metadata": {
        "id": "YVQoFG7_qnEl"
      }
    },
    {
      "cell_type": "code",
      "execution_count": null,
      "metadata": {
        "colab": {
          "base_uri": "https://localhost:8080/"
        },
        "id": "AkA1rcGlqWAk",
        "outputId": "6db309f5-1407-45b7-b93d-7cd8dc010f27"
      },
      "outputs": [
        {
          "output_type": "stream",
          "name": "stdout",
          "text": [
            "0\n",
            "1\n",
            "2\n",
            "3\n",
            "4\n"
          ]
        }
      ],
      "source": [
        "number = 0\n",
        "while number < 5:\n",
        "    print(number)\n",
        "    number += 1"
      ]
    },
    {
      "cell_type": "markdown",
      "source": [
        "Cyklus while se dá taky ukončit ještě dříve než je splněna podmínka, je to pomocí příkazu `break`."
      ],
      "metadata": {
        "id": "P8zhRSOqvwRY"
      }
    },
    {
      "cell_type": "code",
      "source": [
        "for number in range(10):\n",
        "    if number == 5:\n",
        "        break\n",
        "    print(number)"
      ],
      "metadata": {
        "id": "u5M6xAQLv8T1"
      },
      "execution_count": null,
      "outputs": []
    },
    {
      "cell_type": "markdown",
      "source": [
        "Také existuje příkaz `continue`, který přeskočí zbytek aktuální iterace a pokračuje v dalším opakování."
      ],
      "metadata": {
        "id": "4AohmWsVwE5O"
      }
    },
    {
      "cell_type": "code",
      "source": [
        "for number in range(10):\n",
        "    if number == 5:\n",
        "        continue\n",
        "    print(number)"
      ],
      "metadata": {
        "id": "QjtF3CeSwDKg"
      },
      "execution_count": null,
      "outputs": []
    },
    {
      "cell_type": "markdown",
      "source": [
        "#### 1.1 Úkol:\n",
        "Vytvořte program, který bude žádat uživatele, aby zadal číslo. Program bude číslo opakovaně žádat, dokud uživatel nezadá číslo 5."
      ],
      "metadata": {
        "id": "FQlFR7u7rDP3"
      }
    },
    {
      "cell_type": "code",
      "source": [],
      "metadata": {
        "id": "32N2PeHSrsnk"
      },
      "execution_count": null,
      "outputs": []
    },
    {
      "cell_type": "markdown",
      "source": [
        " #### 1.2 Úkol:\n",
        " Vytvořte program, který se ptá uživatele na heslo. Pokud heslo není správné, program žádá uživatele opět."
      ],
      "metadata": {
        "id": "3LIi1JyftDmj"
      }
    },
    {
      "cell_type": "code",
      "source": [],
      "metadata": {
        "id": "XTRAzo4CtH3T"
      },
      "execution_count": null,
      "outputs": []
    },
    {
      "cell_type": "markdown",
      "source": [
        "#### 1.3 Úkol:\n",
        "Napište program, který vypočte faktoriál zadaného čísla pomocí cyklu while.\n",
        "Faktoriál čísla **n** je součin všech kladných celých čísel menších nebo rovných n. [Faktoriál](https://cs.wikipedia.org/wiki/Faktori%C3%A1l)"
      ],
      "metadata": {
        "id": "RvJ95HtitKwf"
      }
    },
    {
      "cell_type": "code",
      "source": [],
      "metadata": {
        "id": "1St1ZmwcuSBe"
      },
      "execution_count": null,
      "outputs": []
    },
    {
      "cell_type": "markdown",
      "source": [
        "#### 1.4 Úkol:\n",
        "Vytvořte program, který vypíše čísla od 1 do 10, ale přeskočí číslo 5."
      ],
      "metadata": {
        "id": "369BiLVqwRY6"
      }
    },
    {
      "cell_type": "code",
      "source": [],
      "metadata": {
        "id": "K1WofVCowYUx"
      },
      "execution_count": null,
      "outputs": []
    },
    {
      "cell_type": "markdown",
      "source": [
        "#### 1.5 Úkol:\n",
        "Vytvořte program, který vypíše všechna čísla od 1 do 100, ale přeskočí všechna čísla, která jsou dělitelná 3."
      ],
      "metadata": {
        "id": "9efX6mD9wiAo"
      }
    },
    {
      "cell_type": "code",
      "source": [],
      "metadata": {
        "id": "r5Oywfmmwlmf"
      },
      "execution_count": null,
      "outputs": []
    },
    {
      "cell_type": "markdown",
      "source": [
        "1.6 Úkol: <br/>\n",
        "Vytvořte program, který vypíše čísla od 1 do 50. Pokud je číslo dělitelné 3, místo čísla vypíše \"BUM\". Pokud je číslo dělitelné 5, vypíše \"BUM\". Pokud je číslo dělitelné 3 i 5, vypíše \"BUMBUM\"."
      ],
      "metadata": {
        "id": "OUkNo5YqGk70"
      }
    },
    {
      "cell_type": "code",
      "source": [],
      "metadata": {
        "id": "WSldGdnoGuLw"
      },
      "execution_count": null,
      "outputs": []
    },
    {
      "cell_type": "markdown",
      "source": [
        "#### 2. Cyklus `for`\n",
        "Cyklus for je jedním z nejpoužívanějších nástrojů v programování. V Pythonu je tento cyklus zvlášť mocný a flexibilní díky své schopnosti iterovat přes různé datové struktury, jako jsou seznamy, n-tice, řetězce a další.\n",
        "\n",
        "Když mluvíme o \"iteraci\", máme na mysli opakování určité akce pro každý prvek v nějaké sekvenci. Například, pokud máme seznam jmen a chceme vypsat každé jméno na obrazovku, můžeme to udělat pomocí cyklu for."
      ],
      "metadata": {
        "id": "ap7GWlT7twik"
      }
    },
    {
      "cell_type": "markdown",
      "source": [
        "#### Příklady použití:"
      ],
      "metadata": {
        "id": "DqGnw5UTG7ad"
      }
    },
    {
      "cell_type": "markdown",
      "source": [
        "2.1 Základní použití range:"
      ],
      "metadata": {
        "id": "WfXXSDGsubAL"
      }
    },
    {
      "cell_type": "code",
      "source": [
        "for i in range(5):\n",
        "    print(i)"
      ],
      "metadata": {
        "id": "3i3rFSGhuSTd"
      },
      "execution_count": null,
      "outputs": []
    },
    {
      "cell_type": "markdown",
      "source": [
        "2.2 Použití range s definovaným začátkem a koncem:"
      ],
      "metadata": {
        "id": "b3ZsOMSdudCT"
      }
    },
    {
      "cell_type": "code",
      "source": [
        "for i in range(2, 5):\n",
        "    print(i)"
      ],
      "metadata": {
        "id": "x0q-idFKuXJt"
      },
      "execution_count": null,
      "outputs": []
    },
    {
      "cell_type": "markdown",
      "source": [
        "2.3 Použití range s krokem:"
      ],
      "metadata": {
        "id": "XichiHTIugD1"
      }
    },
    {
      "cell_type": "code",
      "source": [
        "for i in range(0, 10, 2):\n",
        "    print(i)"
      ],
      "metadata": {
        "id": "7eI6NGoVuYZ2"
      },
      "execution_count": null,
      "outputs": []
    },
    {
      "cell_type": "markdown",
      "source": [
        "2.4 Iterace přes řetězec"
      ],
      "metadata": {
        "id": "EHbUfvaxvWim"
      }
    },
    {
      "cell_type": "code",
      "source": [
        "word = \"hello\"\n",
        "for letter in word:\n",
        "    print(letter)"
      ],
      "metadata": {
        "id": "49O34urkveRo"
      },
      "execution_count": null,
      "outputs": []
    },
    {
      "cell_type": "markdown",
      "source": [
        "2.5 Vnořené cykly <br/>\n",
        "Chceme-li vytvořit tabulku násobilky pro čísla od 1 do 5, můžeme použít zanořený cyklus. Vnější cyklus bude reprezentovat jedno číslo, zatímco vnitřní cyklus bude reprezentovat druhé číslo, s nímž budeme násobit."
      ],
      "metadata": {
        "id": "Sl8-PwZ3Fqx2"
      }
    },
    {
      "cell_type": "code",
      "source": [
        "for i in range(1, 6):\n",
        "    for j in range(1, 6):\n",
        "        print(f\"{i} x {j} = {i * j}\")\n",
        "    print(\"------\")  # oddělení výsledků pro každé i"
      ],
      "metadata": {
        "id": "ln3td5XrFtb2"
      },
      "execution_count": null,
      "outputs": []
    },
    {
      "cell_type": "markdown",
      "source": [
        "#### Procvičení:"
      ],
      "metadata": {
        "id": "sFD6wTdCG_4D"
      }
    },
    {
      "cell_type": "markdown",
      "source": [
        "Úkol 2.6: <br/>\n",
        "Vytvořte program, který vypíše všechna sudá čísla od 0 do 20."
      ],
      "metadata": {
        "id": "KoEH61tzulMV"
      }
    },
    {
      "cell_type": "code",
      "source": [],
      "metadata": {
        "id": "UjkBT0W7up9r"
      },
      "execution_count": null,
      "outputs": []
    },
    {
      "cell_type": "markdown",
      "source": [
        "Úkol 2.7: <br/>\n",
        "Napište program, který vypíše všechny znaky v řetězci zadaném uživatelem."
      ],
      "metadata": {
        "id": "jpGQFDTDvhBY"
      }
    },
    {
      "cell_type": "code",
      "source": [],
      "metadata": {
        "id": "jsRPoGeuvi13"
      },
      "execution_count": null,
      "outputs": []
    },
    {
      "cell_type": "markdown",
      "source": [
        "Úkol 2.8: <br/>\n",
        "Vytvořte program, který od uživatele požádá o šířku a výšku obdélníka. Program poté vykreslí obdélník z hvězdiček (*) s danými rozměry.\n",
        "\n",
        "Pro šířku 4 a výšku 3 bude výstup:\n",
        "```\n",
        "****\n",
        "****\n",
        "****\n",
        "```\n",
        "\n",
        "\n"
      ],
      "metadata": {
        "id": "GJjIpsXtxdlN"
      }
    },
    {
      "cell_type": "code",
      "source": [],
      "metadata": {
        "id": "N_mzBAs9IAc6"
      },
      "execution_count": null,
      "outputs": []
    },
    {
      "cell_type": "markdown",
      "source": [
        "Úkol 2.9: <br/>\n",
        "Vytvořte program, který od uživatele požádá o výšku trojúhelníku. Program následně vykreslí rovnoramenný trojúhelník z hvězdiček. <br/>\n",
        "Pro výšku 4 bude výstup:\n",
        "```\n",
        "   *\n",
        "  ***\n",
        " *****\n",
        "*******\n",
        "```\n",
        "\n",
        "\n"
      ],
      "metadata": {
        "id": "3h5OuprzIAxi"
      }
    },
    {
      "cell_type": "code",
      "source": [],
      "metadata": {
        "id": "5cwGquBPJIEw"
      },
      "execution_count": null,
      "outputs": []
    },
    {
      "cell_type": "markdown",
      "source": [
        "#### 3. Závěrečné úkoly"
      ],
      "metadata": {
        "id": "0WCUaHQRI107"
      }
    },
    {
      "cell_type": "markdown",
      "source": [
        "Úkol 3.1: Kalkulačka\n",
        "1.   Zeptejte se uživatele na dvě čísla.\n",
        "2.   Zeptejte se uživatele na operaci (sčítání, odečítání, násobení, dělení).\n",
        "3.   Vypočítejte výsledek a vypište ho na obrazovku.\n",
        "4.   Pokud uživatel zadá neplatnou operaci, informujte ho o chybě.\n",
        "\n"
      ],
      "metadata": {
        "id": "uef0aURgI6sd"
      }
    },
    {
      "cell_type": "code",
      "source": [],
      "metadata": {
        "id": "awlmkMSgIQQj"
      },
      "execution_count": null,
      "outputs": []
    },
    {
      "cell_type": "markdown",
      "source": [
        "Úkol 3.2: Hádání čísla\n",
        "1. Program si \"myslí\" číslo mezi 1 a 100 (můžete použít modul random pro generování čísla).\n",
        "2. Uživatel má za úkol uhádnout toto číslo.\n",
        "3. Po každém pokusu program informuje uživatele, zda jeho tip byl příliš vysoký, příliš nízký, nebo správný.\n",
        "4. Hra končí, když uživatel uhodne správné číslo. Program poté vypíše počet pokusů."
      ],
      "metadata": {
        "id": "fl91GKUyJRaY"
      }
    },
    {
      "cell_type": "code",
      "source": [],
      "metadata": {
        "id": "Nr8p5l6oJam_"
      },
      "execution_count": null,
      "outputs": []
    }
  ]
}