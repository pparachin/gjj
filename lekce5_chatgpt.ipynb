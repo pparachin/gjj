{
  "nbformat": 4,
  "nbformat_minor": 0,
  "metadata": {
    "colab": {
      "provenance": [],
      "authorship_tag": "ABX9TyNHSxjAFYjMH+MyN+h4UI2U",
      "include_colab_link": true
    },
    "kernelspec": {
      "name": "python3",
      "display_name": "Python 3"
    },
    "language_info": {
      "name": "python"
    }
  },
  "cells": [
    {
      "cell_type": "markdown",
      "metadata": {
        "id": "view-in-github",
        "colab_type": "text"
      },
      "source": [
        "<a href=\"https://colab.research.google.com/github/pparachin/gjj/blob/main/lekce5_chatgpt.ipynb\" target=\"_parent\"><img src=\"https://colab.research.google.com/assets/colab-badge.svg\" alt=\"Open In Colab\"/></a>"
      ]
    },
    {
      "cell_type": "markdown",
      "source": [
        "# Programování pro střední školy"
      ],
      "metadata": {
        "id": "Wa3pbvwqXi2W"
      }
    },
    {
      "cell_type": "markdown",
      "source": [
        "### S.M.A.R.T cíl\n",
        "V následujícíh dvou týdnech budou žáci schopni pochopit a prakticky používat různé typy kolekcí v Pythonu – seznamy, n-tice, množiny a slovníky. Žáci se naučí základní manipulaci s těmito kolekcemi, jako je přidávání, odstraňování a vyhledávání prvků, stejně jako procházení kolekcí pomocí cyklů. Budou také schopni využít tyto kolekce v kombinaci s dříve naučenými koncepty, jako jsou vstupní/výstupní operace, proměnné, podmínky a cykly. Na konci lekce budou žáci schopni samostatně vytvořit a představit program, který demonstruje efektivní použití alespoň dvou typů kolekcí v praktických příkladech, jako je analýza dat nebo správa inventáře ve hře."
      ],
      "metadata": {
        "id": "AJ4ozuGpX7HQ"
      }
    },
    {
      "cell_type": "markdown",
      "source": [
        "## Lekce 5: Kolekce v Pythonu"
      ],
      "metadata": {
        "id": "-ku0_DysU8bJ"
      }
    },
    {
      "cell_type": "markdown",
      "source": [
        "### 1. Úvod do kolekcí\n",
        "Kolekce v Pythonu jsou datové struktury, které slouží k ukládání více hodnot. Mezi nejčastěji používané kolekce patří seznamy, n-tice (tuples), množiny (sets) a slovníky (dictionaries)."
      ],
      "metadata": {
        "id": "TwqNEAnmYdmQ"
      }
    },
    {
      "cell_type": "markdown",
      "source": [
        "#### 1.1 Seznamy (lists)\n",
        "Seznamy jsou uspořádané, měnitelné kolekce, které mohou obsahovat prvky různých typů.\n",
        "\n",
        "**Příklad seznamu:**"
      ],
      "metadata": {
        "id": "M0to0aw8YwVu"
      }
    },
    {
      "cell_type": "code",
      "execution_count": null,
      "metadata": {
        "id": "QGVFy7xxU4Z0"
      },
      "outputs": [],
      "source": [
        "my_list = [1, 2, 3, \"Hello\", 4.5]"
      ]
    },
    {
      "cell_type": "markdown",
      "source": [
        "**Indexy hodnot v seznamu:**\n",
        "\n",
        "V Pythonu začíná indexace od 0. První prvek seznamu má index 0, druhý prvek index 1, atd.\n"
      ],
      "metadata": {
        "id": "5vWQ_y9XZF4Z"
      }
    },
    {
      "cell_type": "code",
      "source": [
        "print(my_list[0])  # vypíše 1\n",
        "print(my_list[3])  # vypíše \"Hello\""
      ],
      "metadata": {
        "colab": {
          "base_uri": "https://localhost:8080/"
        },
        "id": "9jnCP1AVZRP9",
        "outputId": "c7e98fca-dae5-4799-c871-01b85afbf539"
      },
      "execution_count": null,
      "outputs": [
        {
          "output_type": "stream",
          "name": "stdout",
          "text": [
            "1\n",
            "Hello\n"
          ]
        }
      ]
    },
    {
      "cell_type": "markdown",
      "source": [
        "#### 1.2 Úkol\n",
        "Vytvořte seznam s alespoň 5 prvky různých typů a vypište třetí a pátý prvek."
      ],
      "metadata": {
        "id": "WfT2KezQZcp0"
      }
    },
    {
      "cell_type": "code",
      "source": [],
      "metadata": {
        "id": "HqMNdqkiZj6U"
      },
      "execution_count": null,
      "outputs": []
    },
    {
      "cell_type": "markdown",
      "source": [
        "### 2. Built-in funkce pro práci se seznamy\n",
        "Python nabízí řadu vestavěných funkcí pro práci se seznamy, jako jsou `append()`, `remove()`, `sort()`, a další.\n",
        "\n",
        "**Příklad použití `append()`:**"
      ],
      "metadata": {
        "id": "xBNNNULiZ2cS"
      }
    },
    {
      "cell_type": "code",
      "source": [
        "my_list.append(\"new item\")"
      ],
      "metadata": {
        "id": "JBn4RQg1aZ1L"
      },
      "execution_count": null,
      "outputs": []
    },
    {
      "cell_type": "markdown",
      "source": [
        "#### 2.1 Úkol:\n",
        "Vytvořte seznam a přidejte do něj tři nové prvky pomocí append()."
      ],
      "metadata": {
        "id": "__qnygUSabo1"
      }
    },
    {
      "cell_type": "code",
      "source": [],
      "metadata": {
        "id": "Z6bJ2zdna58c"
      },
      "execution_count": null,
      "outputs": []
    },
    {
      "cell_type": "markdown",
      "source": [
        "**Odstranění prvku: `remove()`**\n",
        "\n",
        "Funkce `remove()` odstraní první výskyt zadaného prvku ze seznamu. Pokud prvek v seznamu není, vyvolá chybu.\n",
        "\n",
        "Příklad:"
      ],
      "metadata": {
        "id": "zm_E2MO8a9eV"
      }
    },
    {
      "cell_type": "code",
      "source": [
        "fruits = [\"apple\", \"banana\", \"cherry\", \"banana\"]\n",
        "fruits.remove(\"banana\")\n",
        "print(fruits)  # Výsledek: [\"apple\", \"cherry\", \"banana\"]"
      ],
      "metadata": {
        "id": "voJEXuqLbQ6z"
      },
      "execution_count": null,
      "outputs": []
    },
    {
      "cell_type": "markdown",
      "source": [
        "#### 2.2 Úkol\n",
        "Vytvořte seznam obsahující několik duplicitních prvků. Použijte `remove()` k odstranění jednoho výskytu a vypište upravený seznam."
      ],
      "metadata": {
        "id": "C-GTqy7sbVKc"
      }
    },
    {
      "cell_type": "code",
      "source": [],
      "metadata": {
        "id": "0-mH3NLlbZA-"
      },
      "execution_count": null,
      "outputs": []
    },
    {
      "cell_type": "markdown",
      "source": [
        "**Řazení seznamu: `sort()`**\n",
        "\n",
        "Funkce `sort()` seřadí prvky v seznamu. Můžete použít argument reverse=True pro sestupné řazení.\n",
        "\n",
        "Příklad:"
      ],
      "metadata": {
        "id": "kzcXfMCdbgKB"
      }
    },
    {
      "cell_type": "code",
      "source": [
        "numbers = [3, 1, 4, 1, 5, 9, 2]\n",
        "numbers.sort()\n",
        "print(numbers)  # Výsledek: [1, 1, 2, 3, 4, 5, 9]"
      ],
      "metadata": {
        "id": "TVxG_C_Ob8ov"
      },
      "execution_count": null,
      "outputs": []
    },
    {
      "cell_type": "markdown",
      "source": [
        "#### 2.3 Úkol\n",
        "Vytvořte seznam čísel a seřaďte ho vzestupně i sestupně. Vypište oba výsledky."
      ],
      "metadata": {
        "id": "eHzZez3tb_WG"
      }
    },
    {
      "cell_type": "code",
      "source": [],
      "metadata": {
        "id": "as9hKY0EcBnk"
      },
      "execution_count": null,
      "outputs": []
    },
    {
      "cell_type": "markdown",
      "source": [
        "### 3. Prochazení seznamů pomocí cyklů\n",
        "Seznamy můžeme snadno procházet pomocí cyklu for.\n",
        "\n",
        "Příklad:"
      ],
      "metadata": {
        "id": "Y7_VXlTkcv0V"
      }
    },
    {
      "cell_type": "code",
      "source": [
        "for item in my_list:\n",
        "    print(item)"
      ],
      "metadata": {
        "colab": {
          "base_uri": "https://localhost:8080/"
        },
        "id": "QKsi5z4LdDZn",
        "outputId": "96c833c3-a536-408d-8fbd-4a1ba5f192a7"
      },
      "execution_count": null,
      "outputs": [
        {
          "output_type": "stream",
          "name": "stdout",
          "text": [
            "1\n",
            "2\n",
            "3\n",
            "Hello\n",
            "4.5\n"
          ]
        }
      ]
    },
    {
      "cell_type": "markdown",
      "source": [
        "#### 3.1 Úkol\n",
        "Vytvořte seznam a vypište každý jeho prvek na nový řádek."
      ],
      "metadata": {
        "id": "UgqQhJTQdTMN"
      }
    },
    {
      "cell_type": "code",
      "source": [],
      "metadata": {
        "id": "1S2pznj-dXWr"
      },
      "execution_count": null,
      "outputs": []
    },
    {
      "cell_type": "markdown",
      "source": [
        "### 4. Vyhledávání hodnot v seznamu\n",
        "Můžeme vyhledávat konkrétní prvky v seznamu a zjišťovat jejich index.\n",
        "\n",
        "Příklad:"
      ],
      "metadata": {
        "id": "7XTzQ53xdfqF"
      }
    },
    {
      "cell_type": "code",
      "source": [
        "index = my_list.index(\"Hello\")\n",
        "print(index)  # vypíše index prvku \"Hello\""
      ],
      "metadata": {
        "id": "h_Mk9pOvdoJj"
      },
      "execution_count": null,
      "outputs": []
    },
    {
      "cell_type": "markdown",
      "source": [
        "#### 4.1 Úkol\n",
        "Vytvořte seznam a najděte index zadaného prvku."
      ],
      "metadata": {
        "id": "LKULemAidrlP"
      }
    },
    {
      "cell_type": "markdown",
      "source": [
        "### 5. Souhrnné úkoly na procvičení"
      ],
      "metadata": {
        "id": "ZcQuO3jcNWfA"
      }
    },
    {
      "cell_type": "markdown",
      "source": [
        "1.   Vytvořte seznam s deseti různými čísly. Vypište největší a nejmenší číslo."
      ],
      "metadata": {
        "id": "N2ak4v0VNbI9"
      }
    },
    {
      "cell_type": "code",
      "source": [],
      "metadata": {
        "id": "WDEEf1FPNgw0"
      },
      "execution_count": null,
      "outputs": []
    },
    {
      "cell_type": "markdown",
      "source": [
        "2.   Vytvořte seznam a nechte uživatele přidávat položky, dokud nezadá \"stop\". Poté vypište celý seznam."
      ],
      "metadata": {
        "id": "ovINwsDogHP8"
      }
    },
    {
      "cell_type": "code",
      "source": [],
      "metadata": {
        "id": "0b3glpIANjcu"
      },
      "execution_count": null,
      "outputs": []
    },
    {
      "cell_type": "markdown",
      "source": [
        "3. Vytvořte seznam slov. Napište program, který vypíše slova začínající na písmeno 'a' nebo 'A'."
      ],
      "metadata": {
        "id": "gq_30U8WNj5j"
      }
    },
    {
      "cell_type": "code",
      "source": [],
      "metadata": {
        "id": "k-CuWcryNlRx"
      },
      "execution_count": null,
      "outputs": []
    },
    {
      "cell_type": "markdown",
      "source": [
        "4. Vytvořte program, který zjistí, kolikrát se určitý prvek vyskytuje v seznamu."
      ],
      "metadata": {
        "id": "JPIIJp8BNlnR"
      }
    },
    {
      "cell_type": "code",
      "source": [],
      "metadata": {
        "id": "-NArkEwANmh8"
      },
      "execution_count": null,
      "outputs": []
    }
  ]
}