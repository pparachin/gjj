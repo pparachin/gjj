{
  "nbformat": 4,
  "nbformat_minor": 0,
  "metadata": {
    "colab": {
      "provenance": [],
      "authorship_tag": "ABX9TyM5BbORg5hlYn3ZaHg24USZ",
      "include_colab_link": true
    },
    "kernelspec": {
      "name": "python3",
      "display_name": "Python 3"
    },
    "language_info": {
      "name": "python"
    }
  },
  "cells": [
    {
      "cell_type": "markdown",
      "metadata": {
        "id": "view-in-github",
        "colab_type": "text"
      },
      "source": [
        "<a href=\"https://colab.research.google.com/github/pparachin/gjj/blob/main/lekce1_chatgpt.ipynb\" target=\"_parent\"><img src=\"https://colab.research.google.com/assets/colab-badge.svg\" alt=\"Open In Colab\"/></a>"
      ]
    },
    {
      "cell_type": "markdown",
      "source": [
        "# Programování pro střední školy"
      ],
      "metadata": {
        "id": "EQkeErM1uz7g"
      }
    },
    {
      "cell_type": "markdown",
      "source": [
        "## Lekce 1: Základy programování v pythonu"
      ],
      "metadata": {
        "id": "oRSF_lQgvCix"
      }
    },
    {
      "cell_type": "markdown",
      "source": [
        "### S.M.A.R.T cíl\n",
        "-\tPo prvních dvou týdnech budou žáci schopni inicializovat a používat proměnné k provádění aritmetických operací, porozumí, v jakých situacích používat datové typy řetězec, celé číslo, desetinné číslo a budou schopni měnit datový typ proměnné podle potřeby. Studenti budou schopni vytvořit aplikace pro své každodenní potřeby na úrovni BMI kalkulačky bez syntaktických a sémantických chyb."
      ],
      "metadata": {
        "id": "2E7XDGydveth"
      }
    },
    {
      "cell_type": "markdown",
      "source": [
        "### Příklady promptů:"
      ],
      "metadata": {
        "id": "6X7n46kbB46k"
      }
    }
  ]
}