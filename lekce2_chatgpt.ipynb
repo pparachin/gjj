{
  "nbformat": 4,
  "nbformat_minor": 0,
  "metadata": {
    "colab": {
      "provenance": [],
      "authorship_tag": "ABX9TyOKTm3h/i0h5Hb75nmp0CNB",
      "include_colab_link": true
    },
    "kernelspec": {
      "name": "python3",
      "display_name": "Python 3"
    },
    "language_info": {
      "name": "python"
    }
  },
  "cells": [
    {
      "cell_type": "markdown",
      "metadata": {
        "id": "view-in-github",
        "colab_type": "text"
      },
      "source": [
        "<a href=\"https://colab.research.google.com/github/pparachin/gjj/blob/main/lekce2_chatgpt.ipynb\" target=\"_parent\"><img src=\"https://colab.research.google.com/assets/colab-badge.svg\" alt=\"Open In Colab\"/></a>"
      ]
    },
    {
      "cell_type": "markdown",
      "source": [
        "# Programování pro střední školy"
      ],
      "metadata": {
        "id": "dR1HGRne84ID"
      }
    },
    {
      "cell_type": "markdown",
      "source": [
        "## Lekce 2: Komunikace s uživatelem"
      ],
      "metadata": {
        "id": "sVZImqEGfBhu"
      }
    },
    {
      "cell_type": "markdown",
      "source": [
        "### S.M.A.R.T cíl\n",
        "\n",
        "- Za dva týdny budou žáci schopni zpracovat uživatelský vstup, používat přetypování, importovat knihovnu random pro vygenerování nahodných čísel, použít funkci print() pro výpis hodnot a naučí se používat f-string pro formatování výstupu. Žáci budou schopni samostatně vytvořit program ve kterém zužitkují všechny nabité vědomosti.\n",
        "\n"
      ],
      "metadata": {
        "id": "vQbW_QCWfP24"
      }
    },
    {
      "cell_type": "markdown",
      "source": [
        "### Prompty:\n",
        "\n",
        "#### 1. Uživatelský vstup / výstup na obrazovku\n"
      ],
      "metadata": {
        "id": "Ags6kLSYjpUL"
      }
    },
    {
      "cell_type": "markdown",
      "source": [
        "Začneme tímto promptem (zkopírujte a vložte do chat-gpt):\n",
        "\n",
        "`Jsi empatický a ochotný středoškolský učitel informatiky, tvůj úkol je učit studenty programování v pythonu. Studenti už mají přehled o proměnných, aritmetických operací a datových typech. Nyní budou pokračovat zpracováním uživatelského vstupu a následný výstup na obrazovku. Vždy se studentem probírej jen jedno téma a po jednoduchém vysvětlení mu dej příklad na vyzkoušení. Pokud bude chtít student příklad na procvičení, neposkytuj mu řešení pouze příklad výstupu programu. Poté se zeptej jestli je všechno jasné a řekni ať ti zadá další téma které chce probrat a takhle to opakuj.`"
      ],
      "metadata": {
        "id": "DBGyDSRzks4c"
      }
    },
    {
      "cell_type": "markdown",
      "source": [
        "**Vstup od uživatele a výstup na obrazovku**\n",
        "\n",
        "Zde si můžete vyzkoušet kód od chat-gpt:"
      ],
      "metadata": {
        "id": "ASE18sBskBH6"
      }
    },
    {
      "cell_type": "code",
      "execution_count": null,
      "metadata": {
        "id": "ZTFHO_s88skb"
      },
      "outputs": [],
      "source": []
    },
    {
      "cell_type": "markdown",
      "source": [
        "Zeptejte se co je to f-string a jak ho používat"
      ],
      "metadata": {
        "id": "f2_W0aqF_NCh"
      }
    },
    {
      "cell_type": "markdown",
      "source": [
        "#### 1.1 Procvičení\n",
        "Zeptejte se chat-gpt, aby vám vymyslel nějaké zadání na procvičení"
      ],
      "metadata": {
        "id": "5T2kfJsZP_qM"
      }
    },
    {
      "cell_type": "code",
      "source": [],
      "metadata": {
        "id": "vUTERhZ-ReWz"
      },
      "execution_count": null,
      "outputs": []
    },
    {
      "cell_type": "markdown",
      "source": [
        "#### 2. Generování náhodných čísel"
      ],
      "metadata": {
        "id": "doL0IZKnkNcN"
      }
    },
    {
      "cell_type": "markdown",
      "source": [
        "Prompt:\n",
        "`Nyní bych si chtěl vyzkoušet generování náhodných čísel pomocí knihovny random`"
      ],
      "metadata": {
        "id": "BTosts4PRksd"
      }
    },
    {
      "cell_type": "code",
      "source": [],
      "metadata": {
        "id": "QPRhb-yvSiuE"
      },
      "execution_count": null,
      "outputs": []
    },
    {
      "cell_type": "markdown",
      "source": [
        "#### 2.1 Procvičení"
      ],
      "metadata": {
        "id": "-S6e29OlSqRW"
      }
    },
    {
      "cell_type": "code",
      "source": [],
      "metadata": {
        "id": "c34zbgUfT3Kt"
      },
      "execution_count": null,
      "outputs": []
    },
    {
      "cell_type": "markdown",
      "source": [
        "#### 3. Přetypování proměnných\n"
      ],
      "metadata": {
        "id": "ykNW7gfEk8Ze"
      }
    },
    {
      "cell_type": "markdown",
      "source": [
        "Samozřejmě, přetypování proměnných (také nazývané konverze datových typů) je důležitou součástí práce s programovacím jazykem Python. Můžeme provádět různé operace přetypování mezi různými datovými typy. Zde je příklad a cvičení týkající se přetypování:\n",
        "\n",
        "Příklad: Přetypování proměnných\n",
        "\n",
        "Přetypování je proces změny datového typu proměnné. Může být prováděno různými funkcemi v Pythonu. Zde je příklad, jak přetypovat proměnné:\n"
      ],
      "metadata": {
        "id": "0H5oDkET_zwj"
      }
    },
    {
      "cell_type": "code",
      "source": [
        "# Přetypování na celé číslo\n",
        "cislo1 = 10.5\n",
        "cislo1_celo = int(cislo1)  # Přetypování na celé číslo\n",
        "\n",
        "# Přetypování na desetinné číslo\n",
        "cislo2 = 15\n",
        "cislo2_desetinne = float(cislo2)  # Přetypování na desetinné číslo\n",
        "\n",
        "# Přetypování na řetězec (string)\n",
        "cislo3 = 42\n",
        "cislo3_retezec = str(cislo3)  # Přetypování na řetězec\n",
        "\n",
        "# Přetypování z řetězce na celé číslo\n",
        "retezec = \"123\"\n",
        "retezec_cislo = int(retezec)  # Přetypování z řetězce na celé číslo\n",
        "\n",
        "# Přetypování z řetězce na desetinné číslo\n",
        "retezec2 = \"3.14\"\n",
        "retezec2_desetinne = float(retezec2)  # Přetypování z řetězce na desetinné číslo\n"
      ],
      "metadata": {
        "id": "OkIPPowu_49i"
      },
      "execution_count": null,
      "outputs": []
    },
    {
      "cell_type": "markdown",
      "source": [
        "#### 3.1 Procvičení\n",
        "\n",
        "Cvičení: Přetypování proměnných\n",
        "\n",
        "Vytvoř proměnnou cena a nastav ji na hodnotu 25.99. Přetypuj tuto proměnnou na celé číslo a ulož do nové proměnné cena_celo. Vytiskni tuto proměnnou na obrazovku.\n",
        "\n",
        "Vytvoř proměnnou hodnoceni a nastav ji na řetězec \"5\". Přetypuj tuto proměnnou na celé číslo a ulož do nové proměnné hodnoceni_celo. Vytiskni tuto proměnnou na obrazovku.\n",
        "\n",
        "Vytvoř proměnnou vzdalenost a nastav ji na hodnotu 3.75. Přetypuj tuto proměnnou na desetinné číslo a ulož do nové proměnné vzdalenost_desetinne. Vytiskni tuto proměnnou na obrazovku.\n",
        "\n",
        "Zkuste tato cvičení a zkuste si přetypovat různé datové typy proměnných. Pokud máte nějaké otázky nebo potřebujete další cvičení, rádo vám pomůžu.\n",
        "\n",
        "\n",
        "\n",
        "\n",
        "\n",
        "\n"
      ],
      "metadata": {
        "id": "anpcpdcR_91A"
      }
    },
    {
      "cell_type": "markdown",
      "source": [
        "#### 4. Procvičení všech znalostí\n",
        "Nechte si Chat-GPT vygenerovat několik úkolů pro procvičení všech znalostí na základě konverzace, kterou jste vedli a S.M.A.R.T cílu.\n",
        "\n",
        "Prompt může vypadat následovně:\n",
        "\n",
        "\n",
        "`\n",
        "Na základě této konverzace a tohoto S.M.A.R.T:\n",
        "Za dva týdny budou žáci schopni zpracovat uživatelský vstup, používat přetypování, importovat knihovnu random pro vygenerování nahodných čísel, použít funkci print() pro výpis hodnot a naučí se používat f-string pro formatování výstupu. Žáci budou schopni samostatně vytvořit program ve kterém zužitkují všechny nabité vědomosti.\n",
        "Vytvoř cvičení.\n",
        "`\n",
        "\n"
      ],
      "metadata": {
        "id": "UYXXw7B3AFxm"
      }
    },
    {
      "cell_type": "markdown",
      "source": [
        "#### 4.1 Příklad vygenerováného cvičení\n",
        "Samozřejmě, zde je cvičení, které umožní žákům procvičit všechny dovednosti, které jsi zmínil, tj. zpracování uživatelského vstupu, přetypování, import knihovny `random`, použití funkce `print()` a f-string pro formátování výstupu. Cvičení je zaměřeno na tvorbu jednoduché aplikace.\n",
        "\n",
        "**Cvičení: Hádání čísla**\n",
        "\n",
        "Vytvořte jednoduchou hru, kde program generuje náhodné celé číslo mezi 1 a 20 a žáci budou hádat, jaké to číslo je. Program bude poskytovat zpětnou vazbu až do chvíle, kdy budou uhodnuty číslo. Na konci hry program zobrazí počet pokusů.\n",
        "\n",
        "Instrukce:\n",
        "\n",
        "1. Na začátku programu generujte náhodné číslo mezi 1 a 20.\n",
        "2. Požádejte uživatele o hádání čísla.\n",
        "3. Přetypujte vstup uživatele na celé číslo.\n",
        "4. Porovnejte uživatelovo číslo s náhodným číslem a zobrazte odpovídající zpětnou vazbu (větší/menší/uhodl jsi).\n",
        "5. Opakujte kroky 2 a 3, dokud uživatel neuhodne číslo.\n",
        "6. Na konci hry vypište počet pokusů, které uživatel potřeboval k uhodnutí čísla.\n",
        "\n",
        "To umožní žákům procvičit zpracování uživatelského vstupu, přetypování, generování náhodných čísel s knihovnou `random`, použití funkce `print()` k výstupu a použití f-string pro formátování výstupu.\n",
        "\n",
        "Můžeš také povzbudit žáky, aby přidali další vlastnosti do hry, například omezení na maximální počet pokusů nebo zlepšení grafiky a výstupu pro hráče."
      ],
      "metadata": {
        "id": "UcOQLJGECK09"
      }
    }
  ]
}